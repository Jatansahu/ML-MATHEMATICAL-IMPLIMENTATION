{
  "nbformat": 4,
  "nbformat_minor": 0,
  "metadata": {
    "colab": {
      "provenance": []
    },
    "kernelspec": {
      "name": "python3",
      "display_name": "Python 3"
    },
    "language_info": {
      "name": "python"
    }
  },
  "cells": [
    {
      "cell_type": "markdown",
      "source": [
        "**ML ASSIGNMENT**\n",
        "\n",
        "**ID-202218061**\n",
        "\n",
        "**NAME-JATAN SAHU**"
      ],
      "metadata": {
        "id": "Qgz7kJin5wHt"
      }
    },
    {
      "cell_type": "markdown",
      "source": [
        "#TRAINING DATAPOINTS = 20\n",
        "#TESTING DATAPOINTS = 50"
      ],
      "metadata": {
        "id": "ZEN-4QB01thU"
      }
    },
    {
      "cell_type": "markdown",
      "source": [
        "#1. Generate 20 real number for the variable X from the uniform distribution U [0,1]\n",
        "#2.Construct the training set T = { (x1,y1),(x2,y2),......,(x20,y20)} using the relation\n",
        "#Yi = sin (2 π xi) + εi where εi ~ N(0,0.25)"
      ],
      "metadata": {
        "id": "vG4I_Hig53ae"
      }
    },
    {
      "cell_type": "code",
      "source": [
        "import numpy as np\n",
        "from numpy import random\n",
        "import math"
      ],
      "metadata": {
        "id": "BAMuDQ3Q87dq"
      },
      "execution_count": null,
      "outputs": []
    },
    {
      "cell_type": "code",
      "source": [
        "def construct_train_set_varX(r1,r2,size):\n",
        "  x=[]\n",
        "  #For fixing random values we are using seed\n",
        "  for i in range(size):\n",
        "       x.append(random.uniform(r1,r2))\n",
        "  return x.sort()\n"
      ],
      "metadata": {
        "id": "yLCS0i9O7FmZ"
      },
      "execution_count": null,
      "outputs": []
    },
    {
      "cell_type": "markdown",
      "source": [
        "#2.Construct the training set T = { (x1,y1),(x2,y2),......,(x20,y20)} using the relation\n",
        "#Yi = sin (2 π xi) + εi where εi ~ N(0,0.25)"
      ],
      "metadata": {
        "id": "oqzapSNu66Cq"
      }
    },
    {
      "cell_type": "code",
      "source": [
        "import math\n",
        "import random"
      ],
      "metadata": {
        "id": "o4LYFAQW77HO"
      },
      "execution_count": null,
      "outputs": []
    },
    {
      "cell_type": "code",
      "source": [
        "def construct_train_set_varXY(r1,r2,size):\n",
        "  #Generating 20 random errors εi where εi ~ N(0,0.25)\n",
        "  #E=[]\n",
        "  # for i in range(size):\n",
        "  #   #np.random.seed(42)\n",
        "  #   e=(np.random.normal(0, 0.25))\n",
        "  #   E.append(e)\n",
        "\n",
        "  X=[]\n",
        "  #For fixing random values we are using seed\n",
        "  # random.seed(42)\n",
        "  for i in range(size):\n",
        "      X.append(random.uniform(r1,r2))\n",
        "  X.sort()\n",
        "  E = np.random.normal(0,0.25,size)\n",
        "  # X=construct_train_set_varX(r1,r2,size) \n",
        "  #Calculating Yi = sin (2 π xi) + εi where εi ~ N(0,0.25)\n",
        "  Y=[]\n",
        "  for i in range(size):\n",
        "    Y.append(math.sin(2 * math.pi * X[i]) + E[i])\n",
        "  return X,Y\n",
        "\n"
      ],
      "metadata": {
        "id": "NiSRrcz3FLgI"
      },
      "execution_count": null,
      "outputs": []
    },
    {
      "cell_type": "code",
      "source": [
        "#training set T = { (x1,y1),(x2,y2),......,(x20,y20)}\n",
        "def construct_train_set(r1,r2,size):\n",
        "    X,Y = construct_train_set_varXY(r1,r2,size)\n",
        "    T=zip(X,Y)\n",
        "    return (tuple(T))"
      ],
      "metadata": {
        "id": "jfEIzkKJG5rP"
      },
      "execution_count": null,
      "outputs": []
    },
    {
      "cell_type": "code",
      "source": [
        "T_train =construct_train_set(0,1,20)\n",
        "T_train"
      ],
      "metadata": {
        "colab": {
          "base_uri": "https://localhost:8080/"
        },
        "id": "HSF_GNK_HTvy",
        "outputId": "83d530de-2807-49e4-cbb6-7d188d0eed0f"
      },
      "execution_count": null,
      "outputs": [
        {
          "output_type": "execute_result",
          "data": {
            "text/plain": [
              "((0.11388782361199812, 1.081607713612755),\n",
              " (0.2424242967805731, 1.0590556503057862),\n",
              " (0.2913312079852953, 1.6168899844155522),\n",
              " (0.3760553023241471, 0.8437800981112541),\n",
              " (0.3929351297394599, 0.18291593509001963),\n",
              " (0.4091415902449015, 0.7287083073220152),\n",
              " (0.4384549543089086, 0.47242275292313496),\n",
              " (0.46162222283314847, 0.5612428249181879),\n",
              " (0.49930321528896027, 0.17267335129047584),\n",
              " (0.5456290854508221, -0.3173986276249221),\n",
              " (0.5500991569974728, -0.615684022368352),\n",
              " (0.5638505086287859, -0.4427649514427377),\n",
              " (0.5922270342503855, -0.7602186362503587),\n",
              " (0.6817126331300877, -1.054487162048009),\n",
              " (0.6928352793243427, -0.7890419914177651),\n",
              " (0.7083670512560635, -0.548504510880417),\n",
              " (0.7956568359959544, -0.8604662259797808),\n",
              " (0.8164945154329131, -1.2129556386343414),\n",
              " (0.8189655680044585, -0.7964246186906373),\n",
              " (0.953004611486296, 0.00814942551760256))"
            ]
          },
          "metadata": {},
          "execution_count": 455
        }
      ]
    },
    {
      "cell_type": "markdown",
      "source": [
        "#3.In the similar way construct a testing set of size 50 i.e. Test =\n",
        "#{(x’1,y’1),(x’2,y’2),......,(x’50,y’50)}"
      ],
      "metadata": {
        "id": "DvZ00CbqDnmj"
      }
    },
    {
      "cell_type": "code",
      "source": [
        "#Where Yi is same as above\n",
        "T_test = construct_train_set(0,1,50)\n",
        "T_test"
      ],
      "metadata": {
        "colab": {
          "base_uri": "https://localhost:8080/"
        },
        "id": "WAf5qzMoDvkh",
        "outputId": "bff3272d-ac16-4f65-a2f0-ad101fe749da"
      },
      "execution_count": null,
      "outputs": [
        {
          "output_type": "execute_result",
          "data": {
            "text/plain": [
              "((0.010547772784579967, -0.08622061884180567),\n",
              " (0.02456265302576932, 0.12021548568082156),\n",
              " (0.044296693527849595, 0.2784169020280194),\n",
              " (0.07396513558228845, 0.2519628225204781),\n",
              " (0.08498193405098775, 0.6710138166366806),\n",
              " (0.10454935800606169, 0.5804302646260321),\n",
              " (0.11606933795897467, 0.7712198943354217),\n",
              " (0.1416751768315483, 0.555306566250169),\n",
              " (0.24202116767079884, 0.889379055206086),\n",
              " (0.25873837040365544, 1.1790884495014213),\n",
              " (0.31189034389754144, 0.8321303630722526),\n",
              " (0.3449673875995183, 1.258936696085922),\n",
              " (0.3550088194484896, 0.6902120009869487),\n",
              " (0.3595294930162599, 0.8285654599088539),\n",
              " (0.39113416867750284, 0.8650647339471208),\n",
              " (0.3996177462250823, 0.23513519567079144),\n",
              " (0.40080509732937364, 0.14348307257606774),\n",
              " (0.41597542852571256, 0.12234249564433425),\n",
              " (0.43045554389018226, 0.7388337205246459),\n",
              " (0.44577855150490675, 0.19616676430959723),\n",
              " (0.4792346997726262, 0.7696521941320024),\n",
              " (0.5004657816197345, -0.143988487716137),\n",
              " (0.506612643029509, 0.0046013172522197665),\n",
              " (0.5106762405250447, 0.3184969879569299),\n",
              " (0.5187977668493495, 0.38368778226402606),\n",
              " (0.5369059860245878, 0.28556132396949563),\n",
              " (0.5436452033874777, 0.031284901522047104),\n",
              " (0.5752353982704261, -0.19929221528304714),\n",
              " (0.5805182955240041, -0.33647311097068205),\n",
              " (0.5885899565401472, -0.33373521731827693),\n",
              " (0.6333360396536636, -0.8809526325577779),\n",
              " (0.6381803670108411, -0.9677250372603378),\n",
              " (0.6469998479834043, -0.7986374780037333),\n",
              " (0.6576016445807656, -0.8787039808988231),\n",
              " (0.6586629685323181, -0.9531038147092873),\n",
              " (0.6774718958641857, -0.7238530139003964),\n",
              " (0.6917088658981076, -0.6948491112188542),\n",
              " (0.7152363912994262, -0.9541379698170501),\n",
              " (0.7526827777296058, -0.630475414164689),\n",
              " (0.7689540479200405, -1.278339228097379),\n",
              " (0.772342232462432, -1.03857770904453),\n",
              " (0.7890767632200629, -1.1492150539416337),\n",
              " (0.7907209170492592, -1.4340809031856092),\n",
              " (0.8955015153608991, -0.63108431782082),\n",
              " (0.9203921844782957, -0.5100297240882957),\n",
              " (0.940676158146193, 0.014191280863521616),\n",
              " (0.9617278656799704, -0.08045709365674086),\n",
              " (0.9657167777138282, -0.4697925652659707),\n",
              " (0.9836082059519827, 0.3607124478532145),\n",
              " (0.990700614436968, 0.24686190236805292))"
            ]
          },
          "metadata": {},
          "execution_count": 456
        }
      ]
    },
    {
      "cell_type": "markdown",
      "source": [
        "#Estimate the Least Square polynomial regression model of order M= 1,2, 3, 9,\n",
        "#using the training set T.\n",
        "\n",
        "# For example, for M=1, we need to estimate\n",
        "# F(x) = β1x + β0\n",
        "# For M = 2\n",
        "# F(x) = β2x2 + β1x + β0 ."
      ],
      "metadata": {
        "id": "TwPwAYWKb63Q"
      }
    },
    {
      "cell_type": "code",
      "source": [
        "T_train= construct_train_set(0,1,20)\n",
        "T_train =np.array(T_train)\n",
        "T_train"
      ],
      "metadata": {
        "id": "XYriJV88gsJ6",
        "colab": {
          "base_uri": "https://localhost:8080/"
        },
        "outputId": "d71f4ade-3b6e-4830-ac15-2b4f4b71c92f"
      },
      "execution_count": null,
      "outputs": [
        {
          "output_type": "execute_result",
          "data": {
            "text/plain": [
              "array([[ 0.11508527,  0.80723807],\n",
              "       [ 0.16013571,  0.78816349],\n",
              "       [ 0.16435409,  0.61880926],\n",
              "       [ 0.17445323,  0.79638992],\n",
              "       [ 0.20686733,  1.23568801],\n",
              "       [ 0.24391295,  1.47041528],\n",
              "       [ 0.30026408,  1.33635334],\n",
              "       [ 0.31890947,  0.78551086],\n",
              "       [ 0.43816594,  0.09891003],\n",
              "       [ 0.45533264,  0.31220504],\n",
              "       [ 0.47616253, -0.29289396],\n",
              "       [ 0.482926  ,  0.18786538],\n",
              "       [ 0.55984895, -0.40414262],\n",
              "       [ 0.64796992, -0.91796308],\n",
              "       [ 0.67713933, -1.29570407],\n",
              "       [ 0.69676327, -0.81617577],\n",
              "       [ 0.81018594, -1.06252099],\n",
              "       [ 0.84918001, -1.10451382],\n",
              "       [ 0.95846262, -0.97609985],\n",
              "       [ 0.98390047, -0.10786263]])"
            ]
          },
          "metadata": {},
          "execution_count": 457
        }
      ]
    },
    {
      "cell_type": "code",
      "source": [],
      "metadata": {
        "id": "DQ2U3pJQUTbI"
      },
      "execution_count": null,
      "outputs": []
    },
    {
      "cell_type": "code",
      "source": [
        "X_train = T_train[0:,0].flatten()\n",
        "X_train"
      ],
      "metadata": {
        "colab": {
          "base_uri": "https://localhost:8080/"
        },
        "id": "X6G4Z0lycwUF",
        "outputId": "3ce20df6-7ca0-4e14-e27a-aacdfc999107"
      },
      "execution_count": null,
      "outputs": [
        {
          "output_type": "execute_result",
          "data": {
            "text/plain": [
              "array([0.11508527, 0.16013571, 0.16435409, 0.17445323, 0.20686733,\n",
              "       0.24391295, 0.30026408, 0.31890947, 0.43816594, 0.45533264,\n",
              "       0.47616253, 0.482926  , 0.55984895, 0.64796992, 0.67713933,\n",
              "       0.69676327, 0.81018594, 0.84918001, 0.95846262, 0.98390047])"
            ]
          },
          "metadata": {},
          "execution_count": 458
        }
      ]
    },
    {
      "cell_type": "code",
      "source": [
        "Y_train= T_train[0:,-1:].flatten()\n"
      ],
      "metadata": {
        "id": "ravOeokRQLpo"
      },
      "execution_count": null,
      "outputs": []
    },
    {
      "cell_type": "markdown",
      "source": [
        "#For  training data"
      ],
      "metadata": {
        "id": "OOHmt-k9JoEg"
      }
    },
    {
      "cell_type": "code",
      "source": [
        "def matrix_A(T,M):\n",
        "  A=[]\n",
        "  for i in range(len(T)):\n",
        "    a=[]\n",
        "    for j in range(M,-1,-1):\n",
        "       a.append((T[i][0])**j)     \n",
        "    A.append(a)\n",
        "  return A"
      ],
      "metadata": {
        "id": "5WQCc4WjPJhP"
      },
      "execution_count": null,
      "outputs": []
    },
    {
      "cell_type": "code",
      "source": [
        "matrix_A(T_test,1)"
      ],
      "metadata": {
        "colab": {
          "base_uri": "https://localhost:8080/"
        },
        "id": "UxzRt_yIZdDa",
        "outputId": "d039a603-15f6-4fca-82d5-18a64a2d1179"
      },
      "execution_count": null,
      "outputs": [
        {
          "output_type": "execute_result",
          "data": {
            "text/plain": [
              "[[0.02919227434239058, 1.0],\n",
              " [0.06256375146916437, 1.0],\n",
              " [0.0847519686230278, 1.0],\n",
              " [0.10175204872714239, 1.0],\n",
              " [0.11786165266165671, 1.0],\n",
              " [0.13394776965071065, 1.0],\n",
              " [0.13786729853455748, 1.0],\n",
              " [0.1830445183314835, 1.0],\n",
              " [0.18445177515139366, 1.0],\n",
              " [0.18575369929276564, 1.0],\n",
              " [0.1869598356320934, 1.0],\n",
              " [0.19732443578224634, 1.0],\n",
              " [0.20578447936732192, 1.0],\n",
              " [0.23185554741141035, 1.0],\n",
              " [0.2623533954523609, 1.0],\n",
              " [0.2974448346993519, 1.0],\n",
              " [0.3053800025354989, 1.0],\n",
              " [0.3259849115988185, 1.0],\n",
              " [0.3479246374367544, 1.0],\n",
              " [0.383709962837687, 1.0],\n",
              " [0.3888357803557071, 1.0],\n",
              " [0.40504743628025286, 1.0],\n",
              " [0.4182391062112586, 1.0],\n",
              " [0.4321344524292825, 1.0],\n",
              " [0.45755042220618547, 1.0],\n",
              " [0.5108248694871609, 1.0],\n",
              " [0.5277150196277827, 1.0],\n",
              " [0.5549125758324974, 1.0],\n",
              " [0.587004714565218, 1.0],\n",
              " [0.5922031583603683, 1.0],\n",
              " [0.5969708292829935, 1.0],\n",
              " [0.6113084211390019, 1.0],\n",
              " [0.6141069373719198, 1.0],\n",
              " [0.6144845157129195, 1.0],\n",
              " [0.617362679336425, 1.0],\n",
              " [0.6355016420586352, 1.0],\n",
              " [0.6391085856661506, 1.0],\n",
              " [0.6404788766600781, 1.0],\n",
              " [0.6452600950799504, 1.0],\n",
              " [0.6934329265293553, 1.0],\n",
              " [0.6934365417164455, 1.0],\n",
              " [0.7047356159597344, 1.0],\n",
              " [0.70598836094598, 1.0],\n",
              " [0.7523254953604916, 1.0],\n",
              " [0.8087297886312608, 1.0],\n",
              " [0.8137382542609338, 1.0],\n",
              " [0.8455178026695592, 1.0],\n",
              " [0.8626365474573073, 1.0],\n",
              " [0.8719793300098851, 1.0],\n",
              " [0.999899552563092, 1.0]]"
            ]
          },
          "metadata": {},
          "execution_count": 494
        }
      ]
    },
    {
      "cell_type": "code",
      "source": [
        "def polynomial(M,T):\n",
        "  #Making A matrix\n",
        "  x=[]\n",
        "  for i in range(len(T)):\n",
        "    x.append(T[i][0])\n",
        "  \n",
        "  #Storing values in matrix A\n",
        "  A=[]\n",
        "  for i in range(len(T)):\n",
        "    a=[]\n",
        "    for j in range(M,-1,-1):\n",
        "       a.append((T[i][0])**j)     \n",
        "    A.append(a)\n",
        "  \n",
        "\n",
        "  #NOW WE HAVE TO FIND B0,B1,B2.....\n",
        "  #U =[Bm,Bm-1,1] # 1 is the coefficient of B0\n",
        "  #When m=2 then U=[B2,B1 , 1] \n",
        "  # U= ((At)A).inverse .(A.T*Y)\n",
        "  #taking Y function\n",
        "\n",
        "  Y = T[0:,-1:].flatten()  #For fetching Y variable \n",
        "  \n",
        "  A=np.array(A)\n",
        "  AtA=np.dot(A.transpose(),A)\n",
        "  invofAtA = np.linalg.inv(AtA)\n",
        "  AtY = np.dot(A.transpose(),Y)\n",
        "\n",
        "  U =np.dot(invofAtA , AtY)\n",
        "  return U #[B1,B0]\n",
        "  \n",
        "  #Printing value of B0,B1,B2...\n",
        "  # for i in range(M,-1):\n",
        "  #   print(f\"B{i} : \",U[i])\n",
        "\n"
      ],
      "metadata": {
        "id": "7xk42BBjOMN7"
      },
      "execution_count": null,
      "outputs": []
    },
    {
      "cell_type": "markdown",
      "source": [
        "#5List the value of coefficients of estimated polynomial regression models for\n",
        "#each case."
      ],
      "metadata": {
        "id": "PDzj61ypU_fQ"
      }
    },
    {
      "cell_type": "code",
      "source": [
        "#FOR M=1\n",
        "#Values in B1,B0\n",
        "polynomial(1,T_train)"
      ],
      "metadata": {
        "colab": {
          "base_uri": "https://localhost:8080/"
        },
        "id": "HR1ZST8wTvEb",
        "outputId": "f0cd78e9-77bd-4f97-9097-a39cfe2839f1"
      },
      "execution_count": null,
      "outputs": [
        {
          "output_type": "execute_result",
          "data": {
            "text/plain": [
              "array([-2.69499893,  1.38275574])"
            ]
          },
          "metadata": {},
          "execution_count": 462
        }
      ]
    },
    {
      "cell_type": "code",
      "source": [
        "#FOR M=2\n",
        "#Values in B2,B1,B0\n",
        "polynomial(2,T_train)"
      ],
      "metadata": {
        "colab": {
          "base_uri": "https://localhost:8080/"
        },
        "id": "XHl9QrxAVLLZ",
        "outputId": "91d6a4f2-f612-4e91-ac86-d8b561a1e3cc"
      },
      "execution_count": null,
      "outputs": [
        {
          "output_type": "execute_result",
          "data": {
            "text/plain": [
              "array([ 2.73423428, -5.60529771,  1.950746  ])"
            ]
          },
          "metadata": {},
          "execution_count": 463
        }
      ]
    },
    {
      "cell_type": "code",
      "source": [
        "#FOR M=3\n",
        "polynomial(3,T_train)"
      ],
      "metadata": {
        "colab": {
          "base_uri": "https://localhost:8080/"
        },
        "id": "VdsXJUvAVOAm",
        "outputId": "dfec25be-c0dc-4f8f-8e46-1064cc96f5dc"
      },
      "execution_count": null,
      "outputs": [
        {
          "output_type": "execute_result",
          "data": {
            "text/plain": [
              "array([ 26.3926682 , -40.67214215,  14.6418527 ,  -0.48411369])"
            ]
          },
          "metadata": {},
          "execution_count": 464
        }
      ]
    },
    {
      "cell_type": "code",
      "source": [
        "#FOR M=9\n",
        "polynomial(9,T_train)"
      ],
      "metadata": {
        "colab": {
          "base_uri": "https://localhost:8080/"
        },
        "id": "hhx-q0k_VQhl",
        "outputId": "2548e757-98f3-442c-ab23-dee5a70457b5"
      },
      "execution_count": null,
      "outputs": [
        {
          "output_type": "execute_result",
          "data": {
            "text/plain": [
              "array([-3.37105118e+04,  1.85905678e+05, -4.36139092e+05,  5.69299363e+05,\n",
              "       -4.53524459e+05,  2.27243331e+05, -7.10016468e+04,  1.31732155e+04,\n",
              "       -1.29696507e+03,  5.19115072e+01])"
            ]
          },
          "metadata": {},
          "execution_count": 465
        }
      ]
    },
    {
      "cell_type": "markdown",
      "source": [
        "#6.Obtain the prediction on testing set and compute the RMSE for polynomial\n",
        "#regression models for order M =1,2,3 and 9."
      ],
      "metadata": {
        "id": "RRzich_rZTD4"
      }
    },
    {
      "cell_type": "markdown",
      "source": [
        "#FOR TESTING"
      ],
      "metadata": {
        "id": "SRhwj9qXykgR"
      }
    },
    {
      "cell_type": "code",
      "source": [
        "T_test =np.array(construct_train_set(0,1,50))\n",
        "T_test"
      ],
      "metadata": {
        "colab": {
          "base_uri": "https://localhost:8080/"
        },
        "id": "AzTaBpsBxng7",
        "outputId": "b071cecc-a533-4a9a-fb01-08aa208e8923"
      },
      "execution_count": null,
      "outputs": [
        {
          "output_type": "execute_result",
          "data": {
            "text/plain": [
              "array([[ 0.02919227,  0.62545663],\n",
              "       [ 0.06256375,  0.79836828],\n",
              "       [ 0.08475197,  0.39342533],\n",
              "       [ 0.10175205,  0.44610246],\n",
              "       [ 0.11786165,  0.79188502],\n",
              "       [ 0.13394777,  0.49612618],\n",
              "       [ 0.1378673 ,  0.83735071],\n",
              "       [ 0.18304452,  1.10432593],\n",
              "       [ 0.18445178,  1.22311447],\n",
              "       [ 0.1857537 ,  0.89458656],\n",
              "       [ 0.18695984,  0.87165697],\n",
              "       [ 0.19732444,  0.72623182],\n",
              "       [ 0.20578448,  0.75493708],\n",
              "       [ 0.23185555,  0.93688875],\n",
              "       [ 0.2623534 ,  1.08883056],\n",
              "       [ 0.29744483,  1.18429103],\n",
              "       [ 0.30538   ,  0.73927457],\n",
              "       [ 0.32598491,  1.26135216],\n",
              "       [ 0.34792464,  0.74883175],\n",
              "       [ 0.38370996,  0.66202831],\n",
              "       [ 0.38883578,  0.45624028],\n",
              "       [ 0.40504744, -0.04422322],\n",
              "       [ 0.41823911,  0.71243082],\n",
              "       [ 0.43213445,  0.59781756],\n",
              "       [ 0.45755042,  0.19323556],\n",
              "       [ 0.51082487, -0.05121455],\n",
              "       [ 0.52771502, -0.04427503],\n",
              "       [ 0.55491258, -0.72885751],\n",
              "       [ 0.58700471, -0.65210582],\n",
              "       [ 0.59220316, -0.34889682],\n",
              "       [ 0.59697083, -0.88585419],\n",
              "       [ 0.61130842, -0.57034732],\n",
              "       [ 0.61410694, -0.99623785],\n",
              "       [ 0.61448452, -0.54227138],\n",
              "       [ 0.61736268, -0.68128447],\n",
              "       [ 0.63550164, -1.15597469],\n",
              "       [ 0.63910859, -0.47574618],\n",
              "       [ 0.64047888, -0.95607557],\n",
              "       [ 0.6452601 , -0.99371869],\n",
              "       [ 0.69343293, -0.88735763],\n",
              "       [ 0.69343654, -0.6503485 ],\n",
              "       [ 0.70473562, -1.21378436],\n",
              "       [ 0.70598836, -0.94658775],\n",
              "       [ 0.7523255 , -0.89268913],\n",
              "       [ 0.80872979, -0.75940843],\n",
              "       [ 0.81373825, -0.87676387],\n",
              "       [ 0.8455178 , -0.91700445],\n",
              "       [ 0.86263655, -0.96674605],\n",
              "       [ 0.87197933, -0.69886314],\n",
              "       [ 0.99989955, -0.26866588]])"
            ]
          },
          "metadata": {},
          "execution_count": 466
        }
      ]
    },
    {
      "cell_type": "code",
      "source": [],
      "metadata": {
        "id": "nfWzuFahH57Z"
      },
      "execution_count": null,
      "outputs": []
    },
    {
      "cell_type": "code",
      "source": [
        "X_test = T_test[0:,0].flatten()\n"
      ],
      "metadata": {
        "id": "oE9wTaNjznSh"
      },
      "execution_count": null,
      "outputs": []
    },
    {
      "cell_type": "code",
      "source": [
        "Y_test = T_test[0:,-1].flatten()\n"
      ],
      "metadata": {
        "id": "vNZw02SbzsPZ"
      },
      "execution_count": null,
      "outputs": []
    },
    {
      "cell_type": "code",
      "source": [
        " #Computing prediction\n",
        "def prediction(U,X,M):\n",
        "   fn=0\n",
        "   a=0\n",
        "   for i in range(M,-1,-1):\n",
        "      fn=(U[a])*(X**i) + fn\n",
        "      a=+1\n",
        "   return fn"
      ],
      "metadata": {
        "id": "QcEWvzHJVUS7"
      },
      "execution_count": null,
      "outputs": []
    },
    {
      "cell_type": "code",
      "source": [
        "# Prediction for M=1\n",
        "prediction(polynomial(1,T_test),X_test,1)"
      ],
      "metadata": {
        "colab": {
          "base_uri": "https://localhost:8080/"
        },
        "id": "YXboqJM4cXFq",
        "outputId": "44f9d5ec-78a3-4fd5-8fa4-71f53ccbad10"
      },
      "execution_count": null,
      "outputs": [
        {
          "output_type": "execute_result",
          "data": {
            "text/plain": [
              "array([ 1.16887012,  1.07971075,  1.02042997,  0.97501045,  0.93197004,\n",
              "        0.88899238,  0.87852048,  0.75781944,  0.75405963,  0.75058125,\n",
              "        0.74735879,  0.71966744,  0.69706454,  0.62740985,  0.54592803,\n",
              "        0.4521734 ,  0.43097283,  0.3759222 ,  0.31730532,  0.22169682,\n",
              "        0.20800205,  0.16468899,  0.12944449,  0.09231996,  0.02441552,\n",
              "       -0.11791909, -0.1630449 , -0.23570925, -0.32145058, -0.33533939,\n",
              "       -0.34807729, -0.38638337, -0.39386023, -0.39486902, -0.40255867,\n",
              "       -0.45102097, -0.46065773, -0.46431877, -0.47709286, -0.60579735,\n",
              "       -0.60580701, -0.63599502, -0.639342  , -0.76314202, -0.91383871,\n",
              "       -0.92721994, -1.01212612, -1.05786267, -1.082824  , -1.42459149])"
            ]
          },
          "metadata": {},
          "execution_count": 470
        }
      ]
    },
    {
      "cell_type": "code",
      "source": [
        "# Prediction for M=2\n",
        "prediction(polynomial(2,T_test),X_test,2)"
      ],
      "metadata": {
        "colab": {
          "base_uri": "https://localhost:8080/"
        },
        "id": "EHWrUHBsjEfw",
        "outputId": "8a539f07-735d-4532-8d85-67976c2d4d63"
      },
      "execution_count": null,
      "outputs": [
        {
          "output_type": "execute_result",
          "data": {
            "text/plain": [
              "array([-3.17689203, -3.27855515, -3.34560211, -3.39667608, -3.44483792,\n",
              "       -3.49269958, -3.50432669, -3.63735808, -3.64147286, -3.64527808,\n",
              "       -3.64880199, -3.67903053, -3.70363368, -3.77905274, -3.86651165,\n",
              "       -3.96612167, -3.98849471, -4.04632871, -4.10749483, -4.20634408,\n",
              "       -4.22040993, -4.26474305, -4.30064535, -4.33829565, -4.40671813,\n",
              "       -4.54827716, -4.59263087, -4.66351952, -4.74632072, -4.75964719,\n",
              "       -4.77184826, -4.80841832, -4.81553504, -4.8164947 , -4.82380575,\n",
              "       -4.86971265, -4.87880644, -4.88225817, -4.8942889 , -5.014371  ,\n",
              "       -5.01437993, -5.04224711, -5.04532981, -5.15837481, -5.29340669,\n",
              "       -5.30526039, -5.37995492, -5.41981908, -5.44146569, -5.73005196])"
            ]
          },
          "metadata": {},
          "execution_count": 471
        }
      ]
    },
    {
      "cell_type": "code",
      "source": [
        "# Prediction for M=3\n",
        "prediction(polynomial(3,T_test),X_test,3)"
      ],
      "metadata": {
        "colab": {
          "base_uri": "https://localhost:8080/"
        },
        "id": "ggq-dxHXj1Rg",
        "outputId": "d555ae18-f7a3-43c5-fdde-3f772947847e"
      },
      "execution_count": null,
      "outputs": [
        {
          "output_type": "execute_result",
          "data": {
            "text/plain": [
              "array([-32.0757933 , -33.20575911, -33.99089757, -34.60972901,\n",
              "       -35.20936164, -35.82041987, -35.97111281, -37.75600755,\n",
              "       -37.81295535, -37.86570967, -37.91464161, -38.33743015,\n",
              "       -38.68552361, -39.77431735, -41.07646262, -42.6083192 ,\n",
              "       -42.9591721 , -43.87711075, -44.86447241, -46.49358681,\n",
              "       -46.72855601, -47.47395988, -48.08275613, -48.72586952,\n",
              "       -49.90598209, -52.38742318, -53.1739787 , -54.43793465,\n",
              "       -55.92219481, -56.16163157, -56.38094252, -57.03868557,\n",
              "       -57.16673501, -57.18400278, -57.31555982, -58.14165691,\n",
              "       -58.30526697, -58.36736235, -58.58375789, -60.73792585,\n",
              "       -60.73808554, -61.23557007, -61.29052488, -63.29217191,\n",
              "       -65.63450396, -65.83680105, -67.09649625, -67.75699311,\n",
              "       -68.11183158, -72.51324392])"
            ]
          },
          "metadata": {},
          "execution_count": 472
        }
      ]
    },
    {
      "cell_type": "code",
      "source": [
        "# Prediction for M=9\n",
        "prediction(polynomial(9,T_test),  X_test  ,9)"
      ],
      "metadata": {
        "colab": {
          "base_uri": "https://localhost:8080/"
        },
        "id": "cAX6QdByj3-e",
        "outputId": "15cceba4-0f50-4a51-e2ec-b78bc79dce92"
      },
      "execution_count": null,
      "outputs": [
        {
          "output_type": "execute_result",
          "data": {
            "text/plain": [
              "array([ -27182.98942625,  -28150.66750657,  -28833.1197987 ,\n",
              "        -29378.81023454,  -29915.32573196,  -30470.97481504,\n",
              "        -30609.50538597,  -32302.18715668,  -32357.92507005,\n",
              "        -32409.66255638,  -32457.74133266,  -32876.84720574,\n",
              "        -33227.04566083,  -34354.73053691,  -35774.95409002,\n",
              "        -37561.31319239,  -37990.18989184,  -39150.73000947,\n",
              "        -40466.45444852,  -42811.00877556,  -43168.94138346,\n",
              "        -44340.69918387,  -45341.11636971,  -46443.58166705,\n",
              "        -48600.38876052,  -53804.1718197 ,  -55678.80106133,\n",
              "        -58963.28647495,  -63316.86079282,  -64076.13792183,\n",
              "        -64786.68257419,  -67008.58470531,  -67457.71691656,\n",
              "        -67518.7116533 ,  -67986.7920561 ,  -71068.93972895,\n",
              "        -71710.14074624,  -71956.29157055,  -72826.36170333,\n",
              "        -82656.01409064,  -82656.83088658,  -85273.48297076,\n",
              "        -85571.61154823,  -97836.65769611, -116619.80299811,\n",
              "       -118529.44374586, -131707.45803764, -139631.75315062,\n",
              "       -144222.86774057, -231119.94291381])"
            ]
          },
          "metadata": {},
          "execution_count": 473
        }
      ]
    },
    {
      "cell_type": "markdown",
      "source": [],
      "metadata": {
        "id": "qeV_agOwkNM5"
      }
    },
    {
      "cell_type": "code",
      "source": [
        "#computing the RMSE for polynomial regression models \n",
        "import math\n",
        "def RMSE(Ypred,Yactual):\n",
        "  rmse = math.sqrt( sum((Ypred - Yactual)**2) / (len(Ypred))  )\n",
        "  print(\"RMSE VALUE :\\n\")\n",
        "  return rmse"
      ],
      "metadata": {
        "id": "e8m5ZUGVkQjK"
      },
      "execution_count": null,
      "outputs": []
    },
    {
      "cell_type": "code",
      "source": [
        "#RMSE VALUE FOR TESTING SET FOR M=1\n",
        "RMSE(prediction(polynomial(1,T_test),X_test,1)  ,  Y_test  )"
      ],
      "metadata": {
        "colab": {
          "base_uri": "https://localhost:8080/"
        },
        "id": "n1ed3qLTj2rH",
        "outputId": "d3b874a2-f8db-47c4-8706-45c1d5c463ea"
      },
      "execution_count": null,
      "outputs": [
        {
          "output_type": "stream",
          "name": "stdout",
          "text": [
            "RMSE VALUE :\n",
            "\n"
          ]
        },
        {
          "output_type": "execute_result",
          "data": {
            "text/plain": [
              "0.41793780049403767"
            ]
          },
          "metadata": {},
          "execution_count": 475
        }
      ]
    },
    {
      "cell_type": "code",
      "source": [
        "#RMSE VALUE FOR TRAINING SET FOR M=1\n",
        "RMSE(prediction(polynomial(1,T_train),X_train,1)  ,  Y_train  )"
      ],
      "metadata": {
        "colab": {
          "base_uri": "https://localhost:8080/"
        },
        "id": "aLbZdR5x0-JV",
        "outputId": "42b8fb5e-5e96-4102-de96-cb3b48e5310f"
      },
      "execution_count": null,
      "outputs": [
        {
          "output_type": "stream",
          "name": "stdout",
          "text": [
            "RMSE VALUE :\n",
            "\n"
          ]
        },
        {
          "output_type": "execute_result",
          "data": {
            "text/plain": [
              "0.47491145928217365"
            ]
          },
          "metadata": {},
          "execution_count": 476
        }
      ]
    },
    {
      "cell_type": "markdown",
      "source": [
        "#7. Plot the estimate obtained by polynomial regression models for order M =1,2,3\n",
        "#and 9 for TRAINING SET along with y1, y2, , y50. . Also plot our actual mean estimate\n",
        "#E(Y/X) = sin(2 π xi)"
      ],
      "metadata": {
        "id": "wpvQbFgk125b"
      }
    },
    {
      "cell_type": "code",
      "source": [
        "import matplotlib.pyplot as plt"
      ],
      "metadata": {
        "id": "4zq7MpV2ENXG"
      },
      "execution_count": null,
      "outputs": []
    },
    {
      "cell_type": "code",
      "source": [
        "def plot_estimate(X,Y):\n",
        "  \n",
        "    plt.scatter(X,Y)\n",
        "    plt.xlabel(\"X\")\n",
        "    plt.ylabel(\"Y\")\n",
        "    plt.show()\n",
        "\n"
      ],
      "metadata": {
        "id": "sfa2uC_z2KB6"
      },
      "execution_count": null,
      "outputs": []
    },
    {
      "cell_type": "code",
      "source": [
        "#FOR TRAINING DATA\n",
        "plot_estimate(X_train,Y_train)"
      ],
      "metadata": {
        "colab": {
          "base_uri": "https://localhost:8080/",
          "height": 279
        },
        "id": "aFMjHzR-EJaU",
        "outputId": "5998f73c-e21d-4910-e7a8-200a459fed62"
      },
      "execution_count": null,
      "outputs": [
        {
          "output_type": "display_data",
          "data": {
            "text/plain": [
              "<Figure size 432x288 with 1 Axes>"
            ],
            "image/png": "[encoded data removed]"
          },
          "metadata": {
            "needs_background": "light"
          }
        }
      ]
    },
    {
      "cell_type": "code",
      "source": [
        "#FOR TESTING DATA\n",
        "plot_estimate(X_test,Y_test)"
      ],
      "metadata": {
        "colab": {
          "base_uri": "https://localhost:8080/",
          "height": 279
        },
        "id": "Bb3rAFD3NHxH",
        "outputId": "3bf1d06c-ca02-4417-ee72-8f33c5967bb0"
      },
      "execution_count": null,
      "outputs": [
        {
          "output_type": "display_data",
          "data": {
            "text/plain": [
              "<Figure size 432x288 with 1 Axes>"
            ],
            "image/png": "[encoded data removed]"
          },
          "metadata": {
            "needs_background": "light"
          }
        }
      ]
    },
    {
      "cell_type": "code",
      "source": [
        "np.shape(polynomial(1,T_train))"
      ],
      "metadata": {
        "colab": {
          "base_uri": "https://localhost:8080/"
        },
        "id": "M8PnatiSY0Rc",
        "outputId": "c4f72ee4-4d53-482c-a11f-7c51f8b1e9b5"
      },
      "execution_count": null,
      "outputs": [
        {
          "output_type": "execute_result",
          "data": {
            "text/plain": [
              "(2,)"
            ]
          },
          "metadata": {},
          "execution_count": 490
        }
      ]
    },
    {
      "cell_type": "code",
      "source": [
        "np.shape(matrix_A(T_test, 1))"
      ],
      "metadata": {
        "colab": {
          "base_uri": "https://localhost:8080/"
        },
        "id": "5G2RDeKmZB9u",
        "outputId": "810e9de3-b337-4dba-f0f3-4032a3123fff"
      },
      "execution_count": null,
      "outputs": [
        {
          "output_type": "execute_result",
          "data": {
            "text/plain": [
              "(50, 2)"
            ]
          },
          "metadata": {},
          "execution_count": 495
        }
      ]
    },
    {
      "cell_type": "code",
      "source": [
        "# FOR M=1\n",
        "b = np.dot(matrix_A(T_test, 1),polynomial(1,T_train))\n",
        "# b=prediction(polynomial(1,T_train),X_train,1)\n",
        "plt.scatter(X_test, Y_test)\n",
        "plt.plot(X_test,b)\n",
        "plt.plot(X_test, np.sin(2*X_test*math.pi))\n",
        "plt.legend"
      ],
      "metadata": {
        "colab": {
          "base_uri": "https://localhost:8080/",
          "height": 282
        },
        "id": "eirIFlkHFumP",
        "outputId": "0cc7b18e-a740-48f5-c083-76262273c6f9"
      },
      "execution_count": null,
      "outputs": [
        {
          "output_type": "execute_result",
          "data": {
            "text/plain": [
              "<function matplotlib.pyplot.legend(*args, **kwargs)>"
            ]
          },
          "metadata": {},
          "execution_count": 502
        },
        {
          "output_type": "display_data",
          "data": {
            "text/plain": [
              "<Figure size 432x288 with 1 Axes>"
            ],
            "image/png": "[encoded data removed]"
          },
          "metadata": {
            "needs_background": "light"
          }
        }
      ]
    },
    {
      "cell_type": "code",
      "source": [
        "# FOR M=2\n",
        "b = np.dot(matrix_A(T_test, 2),polynomial(2,T_train))\n",
        "# b=prediction(polynomial(1,T_train),X_train,1)\n",
        "plt.scatter(X_test, Y_test)\n",
        "plt.plot(X_test,b)\n",
        "plt.plot(X_test, np.sin(2*X_test*math.pi))"
      ],
      "metadata": {
        "colab": {
          "base_uri": "https://localhost:8080/",
          "height": 282
        },
        "id": "jiBZY0SaZ6Uk",
        "outputId": "58bef8e7-64c1-47dc-b8da-0289dd58722f"
      },
      "execution_count": null,
      "outputs": [
        {
          "output_type": "execute_result",
          "data": {
            "text/plain": [
              "[<matplotlib.lines.Line2D at 0x7fe22a5767c0>]"
            ]
          },
          "metadata": {},
          "execution_count": 499
        },
        {
          "output_type": "display_data",
          "data": {
            "text/plain": [
              "<Figure size 432x288 with 1 Axes>"
            ],
            "image/png": "[encoded data removed]"
          },
          "metadata": {
            "needs_background": "light"
          }
        }
      ]
    },
    {
      "cell_type": "code",
      "source": [
        "# FOR M=3\n",
        "b = np.dot(matrix_A(T_test, 3),polynomial(3,T_train))\n",
        "# b=prediction(polynomial(1,T_train),X_train,1)\n",
        "plt.scatter(X_test, Y_test)\n",
        "plt.plot(X_test,b)\n",
        "plt.plot(X_test, np.sin(2*X_test*math.pi))"
      ],
      "metadata": {
        "colab": {
          "base_uri": "https://localhost:8080/",
          "height": 282
        },
        "id": "wyf0dmHfVOLr",
        "outputId": "0d21bd84-dc77-45c9-f913-12d284bd9555"
      },
      "execution_count": null,
      "outputs": [
        {
          "output_type": "execute_result",
          "data": {
            "text/plain": [
              "[<matplotlib.lines.Line2D at 0x7fe22a4994c0>]"
            ]
          },
          "metadata": {},
          "execution_count": 500
        },
        {
          "output_type": "display_data",
          "data": {
            "text/plain": [
              "<Figure size 432x288 with 1 Axes>"
            ],
            "image/png": "[encoded data removed]"
          },
          "metadata": {
            "needs_background": "light"
          }
        }
      ]
    },
    {
      "cell_type": "code",
      "source": [
        "# FOR M=9\n",
        "b = np.dot(matrix_A(T_test, 9),polynomial(9,T_train))\n",
        "# b=prediction(polynomial(1,T_train),X_train,1)\n",
        "plt.scatter(X_test, Y_test)\n",
        "plt.plot(X_test,b)\n",
        "plt.plot(X_test, np.sin(2*X_test*math.pi))"
      ],
      "metadata": {
        "colab": {
          "base_uri": "https://localhost:8080/",
          "height": 282
        },
        "id": "0ZAmTVOeaC7g",
        "outputId": "47293406-9d67-49cb-fcd6-fa4625093aff"
      },
      "execution_count": null,
      "outputs": [
        {
          "output_type": "execute_result",
          "data": {
            "text/plain": [
              "[<matplotlib.lines.Line2D at 0x7fe22db3e040>]"
            ]
          },
          "metadata": {},
          "execution_count": 501
        },
        {
          "output_type": "display_data",
          "data": {
            "text/plain": [
              "<Figure size 432x288 with 1 Axes>"
            ],
            "image/png": "[encoded data removed]"
          },
          "metadata": {
            "needs_background": "light"
          }
        }
      ]
    },
    {
      "cell_type": "markdown",
      "source": [
        "#Plot the estimate obtained by polynomial regression models for order M =1,2,3\n",
        "#and 9 for testing set along with y’1, y’2, , y’50. . Also plot the sin(2 π x’i) ."
      ],
      "metadata": {
        "id": "h3gxrt9Ia_Oo"
      }
    },
    {
      "cell_type": "code",
      "source": [
        "# FOR M=1\n",
        "b=prediction(polynomial(1,T_test),X_train,1)\n",
        "plt.scatter(X_test, Y_test)\n",
        "plt.plot(X_train,b)\n",
        "plt.plot(X_train, np.sin(2*X_train*math.pi))"
      ],
      "metadata": {
        "colab": {
          "base_uri": "https://localhost:8080/",
          "height": 282
        },
        "id": "0z2nQ5yCbCg2",
        "outputId": "b59bb315-53a1-4008-f96e-661682fdcfe8"
      },
      "execution_count": null,
      "outputs": [
        {
          "output_type": "execute_result",
          "data": {
            "text/plain": [
              "[<matplotlib.lines.Line2D at 0x7fe22a45e760>]"
            ]
          },
          "metadata": {},
          "execution_count": 506
        },
        {
          "output_type": "display_data",
          "data": {
            "text/plain": [
              "<Figure size 432x288 with 1 Axes>"
            ],
            "image/png": "[encoded data removed]"
          },
          "metadata": {
            "needs_background": "light"
          }
        }
      ]
    },
    {
      "cell_type": "code",
      "source": [
        "# FOR M=2\n",
        "b=prediction(polynomial(2,T_test),X_train,2)\n",
        "plt.scatter(X_test, Y_test)\n",
        "plt.plot(X_train,b)\n",
        "plt.plot(X_train, np.sin(2*X_train*math.pi))"
      ],
      "metadata": {
        "colab": {
          "base_uri": "https://localhost:8080/",
          "height": 282
        },
        "id": "8cCY13ypdQhg",
        "outputId": "2a18c47f-90f3-4a7b-a09e-0f309bc558a0"
      },
      "execution_count": null,
      "outputs": [
        {
          "output_type": "execute_result",
          "data": {
            "text/plain": [
              "[<matplotlib.lines.Line2D at 0x7fe229f0be20>]"
            ]
          },
          "metadata": {},
          "execution_count": 507
        },
        {
          "output_type": "display_data",
          "data": {
            "text/plain": [
              "<Figure size 432x288 with 1 Axes>"
            ],
            "image/png": "[encoded data removed]"
          },
          "metadata": {
            "needs_background": "light"
          }
        }
      ]
    },
    {
      "cell_type": "code",
      "source": [
        "# FOR M=3\n",
        "b=prediction(polynomial(3,T_test),X_train,3)\n",
        "plt.scatter(X_test, Y_test)\n",
        "plt.plot(X_train,b)\n",
        "plt.plot(X_train, np.sin(2*X_train*math.pi))"
      ],
      "metadata": {
        "colab": {
          "base_uri": "https://localhost:8080/",
          "height": 282
        },
        "id": "dTvKsX1bdyKk",
        "outputId": "a6ee1a46-6868-4af1-cc46-ab423cc58316"
      },
      "execution_count": null,
      "outputs": [
        {
          "output_type": "execute_result",
          "data": {
            "text/plain": [
              "[<matplotlib.lines.Line2D at 0x7fe229e2e400>]"
            ]
          },
          "metadata": {},
          "execution_count": 510
        },
        {
          "output_type": "display_data",
          "data": {
            "text/plain": [
              "<Figure size 432x288 with 1 Axes>"
            ],
            "image/png": "[encoded data removed]"
          },
          "metadata": {
            "needs_background": "light"
          }
        }
      ]
    },
    {
      "cell_type": "code",
      "source": [
        "# FOR M=9\n",
        "b=prediction(polynomial(9,T_test),X_train,9)\n",
        "plt.scatter(X_test, Y_test)\n",
        "plt.plot(X_train,b)\n",
        "plt.plot(X_train, np.sin(2*X_train*math.pi))"
      ],
      "metadata": {
        "colab": {
          "base_uri": "https://localhost:8080/",
          "height": 282
        },
        "id": "GTlyKFPndypV",
        "outputId": "79e9ab29-c3a2-41fe-88f5-5408b95695de"
      },
      "execution_count": null,
      "outputs": [
        {
          "output_type": "execute_result",
          "data": {
            "text/plain": [
              "[<matplotlib.lines.Line2D at 0x7fe229d8a640>]"
            ]
          },
          "metadata": {},
          "execution_count": 511
        },
        {
          "output_type": "display_data",
          "data": {
            "text/plain": [
              "<Figure size 432x288 with 1 Axes>"
            ],
            "image/png": "[encoded data removed]"
          },
          "metadata": {
            "needs_background": "light"
          }
        }
      ]
    },
    {
      "cell_type": "markdown",
      "source": [
        "#What happens when we increase the value of M. Note down your\n",
        "#observations."
      ],
      "metadata": {
        "id": "cl-O2d0ae_41"
      }
    },
    {
      "cell_type": "markdown",
      "source": [
        "As the order of the model increases, the model becomes more sensitive to outliers and noise in the data.\n",
        "\n",
        "The variance of the model increases with the order of the model, which means that the model becomes more unstable and sensitive to small variations in the training data"
      ],
      "metadata": {
        "id": "-N0N-qjge8Y6"
      }
    },
    {
      "cell_type": "markdown",
      "source": [
        "#Statical reason"
      ],
      "metadata": {
        "id": "uCuAa_rGfRsG"
      }
    },
    {
      "cell_type": "markdown",
      "source": [
        "The increase in variance of the model can be explained by the fact that as we increase the order of the model, it becomes more complex and more sensitive to small variations in the training data. This means that small variations in the training data can lead to large changes in the model, leading to a more unstable model."
      ],
      "metadata": {
        "id": "pzJ3eV_UfPfu"
      }
    },
    {
      "cell_type": "code",
      "source": [],
      "metadata": {
        "id": "h0-N1HgJd6ey"
      },
      "execution_count": null,
      "outputs": []
    }
  ]
}